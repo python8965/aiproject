{
 "cells": [
  {
   "cell_type": "code",
   "execution_count": null,
   "id": "initial_id",
   "metadata": {
    "collapsed": true
   },
   "outputs": [],
   "source": [
    "import io\n",
    "import json\n",
    "\n",
    "import numpy as np\n",
    "import torch\n",
    "import torch.nn.functional as F\n",
    "import torch.optim as optim\n",
    "import open3d as o3d\n",
    "\n",
    "from torch.utils.data import Dataset, DataLoader"
   ]
  },
  {
   "metadata": {},
   "cell_type": "code",
   "outputs": [],
   "execution_count": null,
   "source": [
    "import os\n",
    "from torchvision.io import read_image\n",
    "\n",
    "class MyLidarDataset(Dataset):\n",
    "    def __init__(self, data_dir):\n",
    "        self.data_dir = data_dir\n",
    "        self.pcg_dir = os.path.join(data_dir, 'pcg')\n",
    "        labels_dir = os.path.join(data_dir, 'labels')\n",
    "        self.label_list = os.listdir(labels_dir)\n",
    "\n",
    "    def __getitem__(self, index):\n",
    "        label_path = os.path.join(self.data_dir, self.label_list[index])\n",
    "        file_name_with_postfix = label_path.split('/')[-1]\n",
    "        file_name = file_name_with_postfix.split('.')[0]\n",
    "        pcg_path = os.path.join(self.pcg_dir, f'./{file_name}.pcg')\n",
    "        class_name = []\n",
    "        annotation = []\n",
    "        \n",
    "        with io.open(label_path, 'r') as f:\n",
    "            j = json.load(f)\n",
    "            for c in j[\"Annotation\"]:\n",
    "                cname = c[\"class_name\"]\n",
    "                data = c[\"data\"]\n",
    "                \n",
    "                class_name.append(cname)\n",
    "                annotation.append(data)\n",
    "        \n",
    "        pcd = o3d.io.read_point_cloud(pcg_path)\n",
    "        downpcd = pcd.voxel_down_sample(voxel_size=0.05)\n",
    "        pos = downpcd.point.positions\n",
    "\n",
    "        return class_name, annotation, pos\n",
    "\n",
    "    def __len__(self):\n",
    "        return len(self.label_list)"
   ],
   "id": "5b4f1aa370f85d96"
  },
  {
   "metadata": {},
   "cell_type": "code",
   "outputs": [],
   "execution_count": null,
   "source": [
    "device = torch.device(\"cuda\" if torch.cuda.is_available() else \"cpu\")\n",
    "\n",
    "train_path = r\"G:\\set1\\training\\labels\"\n",
    "test_path = r\"G:\\set1\\testing\\labels\"\n",
    "train_set = MyLidarDataset(train_path)\n",
    "test_set = MyLidarDataset(test_path)\n",
    "\n",
    "train_loader = torch.utils.data.DataLoader(train_set, batch_size=32, shuffle=True)\n",
    "test_loader = torch.utils.data.DataLoader(test_set, batch_size=32, shuffle=True)\n",
    "\n",
    "\n"
   ],
   "id": "d65838a8e5e55217"
  },
  {
   "metadata": {},
   "cell_type": "code",
   "outputs": [],
   "execution_count": null,
   "source": [
    "from torch import nn\n",
    "\n",
    "class ContextEncoder(nn.Module):\n",
    "    def __init__(self):\n",
    "        super(ContextEncoder, self).__init__()\n",
    "        self.fc1 = nn.Linear(in_features=512, out_features=256)\n",
    "        self.fc2 = nn.Linear(in_features=256, out_features=128)\n",
    "        self.fc3 = nn.Linear(in_features=128, out_features=64)\n",
    "        self.fc4 = nn.Linear(in_features=64, out_features=32)\n",
    "        self.fc5 = nn.Linear(in_features=32, out_features=16)\n",
    "        self.fc6 = nn.Linear(in_features=16, out_features=8)\n",
    "        self.fc7 = nn.Linear(in_features=8, out_features=4)\n",
    "        self.fc8 = nn.Linear(in_features=4, out_features=2)\n",
    "        self.relu = nn.ReLU()\n",
    "        \n",
    "\n",
    "class Prediction(nn.Module):\n",
    "    "
   ],
   "id": "5b6145735f7029be"
  }
 ],
 "metadata": {
  "kernelspec": {
   "display_name": "Python 3",
   "language": "python",
   "name": "python3"
  },
  "language_info": {
   "codemirror_mode": {
    "name": "ipython",
    "version": 2
   },
   "file_extension": ".py",
   "mimetype": "text/x-python",
   "name": "python",
   "nbconvert_exporter": "python",
   "pygments_lexer": "ipython2",
   "version": "2.7.6"
  }
 },
 "nbformat": 4,
 "nbformat_minor": 5
}
