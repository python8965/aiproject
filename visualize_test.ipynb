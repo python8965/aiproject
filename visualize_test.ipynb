{
 "cells": [
  {
   "cell_type": "code",
   "execution_count": 1,
   "metadata": {
    "ExecuteTime": {
     "end_time": "2024-07-30T12:22:22.052854Z",
     "start_time": "2024-07-30T12:22:22.039464Z"
    }
   },
   "outputs": [
    {
     "name": "stdout",
     "output_type": "stream",
     "text": [
      "Jupyter environment detected. Enabling Open3D WebVisualizer.\n",
      "[Open3D INFO] WebRTC GUI backend enabled.\n",
      "[Open3D INFO] WebRTCWindowSystem: HTTP handshake server disabled.\n"
     ]
    }
   ],
   "source": [
    "import torch\n",
    "import open3d as o3d"
   ]
  },
  {
   "cell_type": "code",
   "execution_count": 2,
   "metadata": {
    "ExecuteTime": {
     "end_time": "2024-07-30T12:22:22.068487Z",
     "start_time": "2024-07-30T12:22:22.053856Z"
    }
   },
   "outputs": [],
   "source": [
    "data_name = \"./E_DCG_230829_141_LR_001\"\n",
    "\n",
    "pcd_name = data_name + \".pcd\"\n",
    "json_name = data_name + \".json\""
   ]
  },
  {
   "cell_type": "code",
   "execution_count": 3,
   "metadata": {
    "ExecuteTime": {
     "end_time": "2024-07-30T12:22:22.083489Z",
     "start_time": "2024-07-30T12:22:22.069490Z"
    }
   },
   "outputs": [
    {
     "name": "stdout",
     "output_type": "stream",
     "text": [
      "0\n",
      "1\n",
      "2\n",
      "3\n",
      "4\n",
      "5\n",
      "6\n",
      "10\n",
      "11\n",
      "12\n",
      "27\n"
     ]
    }
   ],
   "source": [
    "import json\n",
    "\n",
    "line_sets = []\n",
    "\n",
    "with open(json_name, 'r') as f:\n",
    "    x = json.load(f)\n",
    "    for ano in x[\"Annotation\"]:\n",
    "        \n",
    "        print(ano[\"instance_id\"])\n",
    "        points = ano[\"data\"]\n",
    "        lines = [\n",
    "            [0, 1],\n",
    "            [0, 2],\n",
    "            [0, 3]\n",
    "        ]\n",
    "\n",
    "        colors = [[1, 0, 0] for i in range(len(lines))]\n",
    "\n",
    "        line_set = o3d.geometry.LineSet(\n",
    "            points=o3d.utility.Vector3dVector(points),\n",
    "            lines=o3d.utility.Vector2iVector(lines),\n",
    "        )\n",
    "        line_set.colors = o3d.utility.Vector3dVector(colors)\n",
    "\n",
    "        line_sets.append(line_set)"
   ]
  },
  {
   "cell_type": "code",
   "execution_count": 4,
   "metadata": {
    "ExecuteTime": {
     "end_time": "2024-07-30T13:26:19.870184Z",
     "start_time": "2024-07-30T12:22:22.084489Z"
    }
   },
   "outputs": [],
   "source": [
    "\n",
    "pcd = o3d.io.read_point_cloud(pcd_name)\n",
    "pcd = pcd.voxel_down_sample(voxel_size=0.25)\n",
    "o3d.visualization.draw_geometries([pcd, *line_sets],\n",
    "                                  zoom=0.01,\n",
    "                                  front=[0, 1, 0],\n",
    "                                  lookat=[0, 0, 10],\n",
    "                                  up=[0, 0, 1])\n",
    "voxel_grid = o3d.geometry.VoxelGrid.create_from_point_cloud(pcd,\n",
    "                                                            voxel_size=0.25)\n",
    "o3d.visualization.draw_geometries([voxel_grid])\n"
   ]
  }
 ],
 "metadata": {
  "kernelspec": {
   "display_name": "Python 3",
   "language": "python",
   "name": "python3"
  },
  "language_info": {
   "codemirror_mode": {
    "name": "ipython",
    "version": 3
   },
   "file_extension": ".py",
   "mimetype": "text/x-python",
   "name": "python",
   "nbconvert_exporter": "python",
   "pygments_lexer": "ipython3",
   "version": "3.9.19"
  }
 },
 "nbformat": 4,
 "nbformat_minor": 2
}
