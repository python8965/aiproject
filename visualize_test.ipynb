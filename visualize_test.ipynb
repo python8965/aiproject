{
 "cells": [
  {
   "cell_type": "code",
   "execution_count": 10,
   "metadata": {},
   "outputs": [],
   "source": [
    "import torch\n",
    "import open3d as o3d"
   ]
  },
  {
   "cell_type": "code",
   "execution_count": 11,
   "metadata": {},
   "outputs": [],
   "source": [
    "data_name = \"./E_DCG_230829_141_LR_001\"\n",
    "\n",
    "pcd_name = data_name + \".pcd\"\n",
    "json_name = data_name + \".json\""
   ]
  },
  {
   "cell_type": "code",
   "execution_count": 12,
   "metadata": {},
   "outputs": [
    {
     "name": "stdout",
     "output_type": "stream",
     "text": [
      "0\n",
      "1\n",
      "2\n",
      "3\n",
      "4\n",
      "5\n",
      "6\n",
      "10\n",
      "11\n",
      "12\n",
      "27\n"
     ]
    }
   ],
   "source": [
    "import json\n",
    "\n",
    "line_sets = []\n",
    "\n",
    "with open(json_name, 'r') as f:\n",
    "    x = json.load(f)\n",
    "    for ano in x[\"Annotation\"]:\n",
    "        \n",
    "        print(ano[\"instance_id\"])\n",
    "        points = ano[\"data\"]\n",
    "        lines = [\n",
    "            [0, 1],\n",
    "            [0, 2],\n",
    "            [0, 3]\n",
    "        ]\n",
    "\n",
    "        colors = [[1, 0, 0] for i in range(len(lines))]\n",
    "\n",
    "        line_set = o3d.geometry.LineSet(\n",
    "            points=o3d.utility.Vector3dVector(points),\n",
    "            lines=o3d.utility.Vector2iVector(lines),\n",
    "        )\n",
    "        line_set.colors = o3d.utility.Vector3dVector(colors)\n",
    "\n",
    "        line_sets.append(line_set)"
   ]
  },
  {
   "cell_type": "code",
   "execution_count": 23,
   "metadata": {},
   "outputs": [],
   "source": [
    "\n",
    "pcd = o3d.io.read_point_cloud(pcd_name)\n",
    "o3d.visualization.draw_geometries([pcd, *line_sets],\n",
    "                                  zoom=0.01,\n",
    "                                  front=[0, 1, 0],\n",
    "                                  lookat=[0, 0, 10],\n",
    "                                  up=[0, 0, 1])\n",
    "\n"
   ]
  }
 ],
 "metadata": {
  "kernelspec": {
   "display_name": "Python 3",
   "language": "python",
   "name": "python3"
  },
  "language_info": {
   "codemirror_mode": {
    "name": "ipython",
    "version": 3
   },
   "file_extension": ".py",
   "mimetype": "text/x-python",
   "name": "python",
   "nbconvert_exporter": "python",
   "pygments_lexer": "ipython3",
   "version": "3.9.19"
  }
 },
 "nbformat": 4,
 "nbformat_minor": 2
}
